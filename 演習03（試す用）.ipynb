{
  "nbformat": 4,
  "nbformat_minor": 0,
  "metadata": {
    "colab": {
      "provenance": [],
      "gpuType": "L4",
      "authorship_tag": "ABX9TyPuem8/XMRaTTeK1crz3U7K",
      "include_colab_link": true
    },
    "kernelspec": {
      "name": "python3",
      "display_name": "Python 3"
    },
    "language_info": {
      "name": "python"
    },
    "accelerator": "GPU"
  },
  "cells": [
    {
      "cell_type": "markdown",
      "metadata": {
        "id": "view-in-github",
        "colab_type": "text"
      },
      "source": [
        "<a href=\"https://colab.research.google.com/github/hassaku12/manabiDX2025/blob/main/%E6%BC%94%E7%BF%9203%EF%BC%88%E8%A9%A6%E3%81%99%E7%94%A8%EF%BC%89.ipynb\" target=\"_parent\"><img src=\"https://colab.research.google.com/assets/colab-badge.svg\" alt=\"Open In Colab\"/></a>"
      ]
    },
    {
      "cell_type": "markdown",
      "source": [
        "## データの読み取り"
      ],
      "metadata": {
        "id": "5RWmI06ynebb"
      }
    },
    {
      "cell_type": "code",
      "execution_count": 2,
      "metadata": {
        "id": "V2u0gVJvouG_",
        "colab": {
          "base_uri": "https://localhost:8080/"
        },
        "outputId": "188ca0c1-4c44-484f-ac34-c016c25f6cc4"
      },
      "outputs": [
        {
          "output_type": "stream",
          "name": "stdout",
          "text": [
            "Mounted at /content/drive\n"
          ]
        }
      ],
      "source": [
        "# まずはGoogleドライブにアクセスする\n",
        "from google.colab import drive\n",
        "drive.mount('/content/drive')"
      ]
    },
    {
      "cell_type": "code",
      "source": [
        "# japanize-matplotlibのインストール (実行環境に未導入の場合)\n",
        "!pip install japanize-matplotlib"
      ],
      "metadata": {
        "colab": {
          "base_uri": "https://localhost:8080/"
        },
        "id": "dCJXCkY4EUNg",
        "outputId": "bb9dada3-6b86-4848-a17f-30287cb55121"
      },
      "execution_count": 3,
      "outputs": [
        {
          "output_type": "stream",
          "name": "stdout",
          "text": [
            "Collecting japanize-matplotlib\n",
            "  Downloading japanize-matplotlib-1.1.3.tar.gz (4.1 MB)\n",
            "\u001b[?25l     \u001b[90m━━━━━━━━━━━━━━━━━━━━━━━━━━━━━━━━━━━━━━━━\u001b[0m \u001b[32m0.0/4.1 MB\u001b[0m \u001b[31m?\u001b[0m eta \u001b[36m-:--:--\u001b[0m\r\u001b[2K     \u001b[91m━━━━━━━━━━━━━━━━━━━━━━━━━━━━━━━━━━━━━━━\u001b[0m\u001b[91m╸\u001b[0m \u001b[32m4.1/4.1 MB\u001b[0m \u001b[31m181.9 MB/s\u001b[0m eta \u001b[36m0:00:01\u001b[0m\r\u001b[2K     \u001b[90m━━━━━━━━━━━━━━━━━━━━━━━━━━━━━━━━━━━━━━━━\u001b[0m \u001b[32m4.1/4.1 MB\u001b[0m \u001b[31m94.0 MB/s\u001b[0m eta \u001b[36m0:00:00\u001b[0m\n",
            "\u001b[?25h  Preparing metadata (setup.py) ... \u001b[?25l\u001b[?25hdone\n",
            "Requirement already satisfied: matplotlib in /usr/local/lib/python3.12/dist-packages (from japanize-matplotlib) (3.10.0)\n",
            "Requirement already satisfied: contourpy>=1.0.1 in /usr/local/lib/python3.12/dist-packages (from matplotlib->japanize-matplotlib) (1.3.3)\n",
            "Requirement already satisfied: cycler>=0.10 in /usr/local/lib/python3.12/dist-packages (from matplotlib->japanize-matplotlib) (0.12.1)\n",
            "Requirement already satisfied: fonttools>=4.22.0 in /usr/local/lib/python3.12/dist-packages (from matplotlib->japanize-matplotlib) (4.59.1)\n",
            "Requirement already satisfied: kiwisolver>=1.3.1 in /usr/local/lib/python3.12/dist-packages (from matplotlib->japanize-matplotlib) (1.4.9)\n",
            "Requirement already satisfied: numpy>=1.23 in /usr/local/lib/python3.12/dist-packages (from matplotlib->japanize-matplotlib) (2.0.2)\n",
            "Requirement already satisfied: packaging>=20.0 in /usr/local/lib/python3.12/dist-packages (from matplotlib->japanize-matplotlib) (25.0)\n",
            "Requirement already satisfied: pillow>=8 in /usr/local/lib/python3.12/dist-packages (from matplotlib->japanize-matplotlib) (11.3.0)\n",
            "Requirement already satisfied: pyparsing>=2.3.1 in /usr/local/lib/python3.12/dist-packages (from matplotlib->japanize-matplotlib) (3.2.3)\n",
            "Requirement already satisfied: python-dateutil>=2.7 in /usr/local/lib/python3.12/dist-packages (from matplotlib->japanize-matplotlib) (2.9.0.post0)\n",
            "Requirement already satisfied: six>=1.5 in /usr/local/lib/python3.12/dist-packages (from python-dateutil>=2.7->matplotlib->japanize-matplotlib) (1.17.0)\n",
            "Building wheels for collected packages: japanize-matplotlib\n",
            "  Building wheel for japanize-matplotlib (setup.py) ... \u001b[?25l\u001b[?25hdone\n",
            "  Created wheel for japanize-matplotlib: filename=japanize_matplotlib-1.1.3-py3-none-any.whl size=4120257 sha256=7707fa96c61a2f263da1e435419d89b95954246990d71e7b1ed4d4a7a59cec8b\n",
            "  Stored in directory: /root/.cache/pip/wheels/c1/f7/9b/418f19a7b9340fc16e071e89efc379aca68d40238b258df53d\n",
            "Successfully built japanize-matplotlib\n",
            "Installing collected packages: japanize-matplotlib\n",
            "Successfully installed japanize-matplotlib-1.1.3\n"
          ]
        }
      ]
    },
    {
      "cell_type": "code",
      "source": [
        "import os\n",
        "import pandas as pd\n",
        "import matplotlib.pyplot as plt\n",
        "import numpy as np\n",
        "import japanize_matplotlib\n",
        "import seaborn as sns\n",
        "from sklearn.tree import DecisionTreeClassifier\n",
        "from sklearn.ensemble import RandomForestClassifier, GradientBoostingClassifier, ExtraTreesClassifier\n",
        "from sklearn.linear_model import LogisticRegression\n",
        "from sklearn.metrics import roc_auc_score, precision_score, recall_score, f1_score\n",
        "from sklearn.preprocessing import StandardScaler\n",
        "from sklearn.model_selection import cross_val_score\n",
        "import warnings\n",
        "warnings.filterwarnings('ignore')"
      ],
      "metadata": {
        "id": "o6mDl66NEpqI"
      },
      "execution_count": 5,
      "outputs": []
    },
    {
      "cell_type": "code",
      "source": [
        "base_dir = '/content/drive/MyDrive/Colab Notebooks/マナビDX'"
      ],
      "metadata": {
        "id": "PB_duKNHFzL9"
      },
      "execution_count": 6,
      "outputs": []
    },
    {
      "cell_type": "code",
      "source": [
        "print(\"📊 データ読み込み中...\")\n",
        "train_df = pd.read_csv(base_dir + '/train.csv')\n",
        "test_df = pd.read_csv(base_dir + '/test.csv')\n",
        "submission_df = pd.read_csv(base_dir + '/sample_submit.csv', header=None)\n",
        "assessment_df = pd.read_csv(base_dir + '/適合性判定シート一覧表.csv')"
      ],
      "metadata": {
        "id": "T2oQ0Gv7GEQL",
        "colab": {
          "base_uri": "https://localhost:8080/"
        },
        "outputId": "93968ef2-43de-4077-cc2d-1a3c1a493ff3"
      },
      "execution_count": 7,
      "outputs": [
        {
          "output_type": "stream",
          "name": "stdout",
          "text": [
            "📊 データ読み込み中...\n"
          ]
        }
      ]
    },
    {
      "cell_type": "code",
      "source": [
        "print(\"📊 追加データ読み込み中...\")\n",
        "\n",
        "# 約定データと商品リストを読み込み\n",
        "try:\n",
        "    trading_df = pd.read_csv(base_dir + '/約定データ一覧表.csv')\n",
        "    product_df = pd.read_csv(base_dir + '/商品リスト.csv')\n",
        "\n",
        "    print(f\"✅ 約定データ: {trading_df.shape}\")\n",
        "    print(f\"✅ 商品リスト: {product_df.shape}\")\n",
        "    print(f\"✅ 約定データ列: {list(trading_df.columns)}\")\n",
        "    print(f\"✅ 商品リスト列: {list(product_df.columns)}\")\n",
        "\n",
        "    HAS_ALL_DATA = True\n",
        "\n",
        "except Exception as e:\n",
        "    print(f\"❌ データ読み込みエラー: {e}\")\n",
        "    HAS_ALL_DATA = False"
      ],
      "metadata": {
        "colab": {
          "base_uri": "https://localhost:8080/"
        },
        "id": "2E5vkA4W3Wu3",
        "outputId": "1a430186-4c84-4af6-e873-fb7359c7d7b4"
      },
      "execution_count": 8,
      "outputs": [
        {
          "output_type": "stream",
          "name": "stdout",
          "text": [
            "📊 追加データ読み込み中...\n",
            "✅ 約定データ: (37514, 20)\n",
            "✅ 商品リスト: (786, 18)\n",
            "✅ 約定データ列: ['取引日', '顧客ID', '取引コード', '商品名', '取得価額', '取得単価', '取引数量', '売却単価', '売却価額', '売却損益', '償還価額', '償還単価', '償還損益', '積立投資購入の新規/既存', '購入開始年月', '購入終了年月', 'オンライン取引フラグ', 'ゴール設定実施', 'ロスカット設定実施', 'ロスカット水準']\n",
            "✅ 商品リスト列: ['商品名', '商品カテゴリ', 'リスクカテゴリ', '通貨', '勧誘留意商品', '解約手数料率', '発行日', '償還日', '利率', '発行日株価', '早期償還株価', 'ノックイン株価', '早期償還日', 'ノックイン日', '契約年月', '予定利率', 'ターゲット', 'ターゲット到達日']\n"
          ]
        }
      ]
    },
    {
      "cell_type": "markdown",
      "source": [
        "## データ前処理"
      ],
      "metadata": {
        "id": "AhZBUc-aJyJe"
      }
    },
    {
      "cell_type": "code",
      "source": [
        "# 顧客属性データの前処理\n",
        "assessment_df['取引日'] = pd.to_datetime(assessment_df['取引日'])\n",
        "assessment_df_latest = assessment_df.sort_values(['顧客ID', '取引日']).drop_duplicates(subset='顧客ID', keep='last')\n",
        "assessment_df_selected = assessment_df_latest[['顧客ID', '顧客年齢', '投資経験（株式）']]"
      ],
      "metadata": {
        "id": "geqgG3BxJ0I6"
      },
      "execution_count": 9,
      "outputs": []
    },
    {
      "cell_type": "code",
      "source": [
        "# 顧客属性情報を結合\n",
        "train_df = pd.merge(train_df, assessment_df_selected, on='顧客ID', how='left')\n",
        "test_df = pd.merge(test_df, assessment_df_selected, on='顧客ID', how='left')"
      ],
      "metadata": {
        "id": "xs6QOxbEKTNB"
      },
      "execution_count": 10,
      "outputs": []
    },
    {
      "cell_type": "code",
      "source": [
        "# 欠損値を補完\n",
        "train_df['顧客年齢'] = train_df['顧客年齢'].fillna(train_df['顧客年齢'].mean())\n",
        "test_df['顧客年齢'] = test_df['顧客年齢'].fillna(test_df['顧客年齢'].mean())\n",
        "train_df['投資経験（株式）'] = train_df['投資経験（株式）'].fillna(0)\n",
        "test_df['投資経験（株式）'] = test_df['投資経験（株式）'].fillna(0)"
      ],
      "metadata": {
        "id": "TheHXUiyKVQm"
      },
      "execution_count": 11,
      "outputs": []
    },
    {
      "cell_type": "code",
      "source": [
        "# 基準年月から年と月を抽出\n",
        "train_df['year'] = train_df['基準年月'].str.split('-').str[0].astype(int)\n",
        "train_df['month'] = train_df['基準年月'].str.split('-').str[1].astype(int)\n",
        "test_df['year'] = test_df['基準年月'].str.split('-').str[0].astype(int)\n",
        "test_df['month'] = test_df['基準年月'].str.split('-').str[1].astype(int)"
      ],
      "metadata": {
        "id": "cwCZR8nTKYEw"
      },
      "execution_count": 12,
      "outputs": []
    },
    {
      "cell_type": "markdown",
      "source": [
        "## 特徴量エンジニアリング（すべてを関数で統一）"
      ],
      "metadata": {
        "id": "bFWAxiA072mt"
      }
    },
    {
      "cell_type": "code",
      "source": [
        "# 既存の関数群（必須）\n",
        "def add_real_trading_features(df):\n",
        "    \"\"\"実際の約定データから特徴量作成\"\"\"\n",
        "    try:\n",
        "        trading_df['取引日'] = pd.to_datetime(trading_df['取引日'])\n",
        "        past_trading = trading_df[trading_df['取引日'] <= '2021-11-30']\n",
        "\n",
        "        customer_stats = past_trading.groupby('顧客ID').agg({\n",
        "            '取得価額': ['count', 'sum', 'mean'],\n",
        "            '売却損益': ['sum', 'count'],\n",
        "            '償還損益': ['sum', 'count'],\n",
        "            'オンライン取引フラグ': 'mean',\n",
        "            '商品名': 'nunique',\n",
        "            'ゴール設定実施': 'mean',\n",
        "            'ロスカット設定実施': 'mean'\n",
        "        }).fillna(0)\n",
        "\n",
        "        customer_stats.columns = [\n",
        "            '過去取引回数', '過去総取得額', '過去平均取得額',\n",
        "            '売却損益合計', '売却回数', '償還損益合計', '償還回数',\n",
        "            'デジタル利用率', '商品多様性', 'ゴール設定率', 'ロスカット設定率'\n",
        "        ]\n",
        "\n",
        "        customer_stats['過去累積損益'] = customer_stats['売却損益合計'] + customer_stats['償還損益合計']\n",
        "        customer_stats['投資成功体験'] = (customer_stats['過去累積損益'] > 0).astype(int)\n",
        "        customer_stats['平均利益率'] = customer_stats['過去累積損益'] / (customer_stats['過去総取得額'] + 1)\n",
        "        customer_stats['リスク管理度'] = (customer_stats['ゴール設定率'] + customer_stats['ロスカット設定率']) / 2\n",
        "\n",
        "        # 投資家タイプ分類\n",
        "        customer_stats['投資家タイプ'] = 'その他'\n",
        "        active_mask = (\n",
        "            (customer_stats['過去取引回数'] > customer_stats['過去取引回数'].quantile(0.7)) &\n",
        "            (customer_stats['投資成功体験'] == 1)\n",
        "        )\n",
        "        customer_stats.loc[active_mask, '投資家タイプ'] = 'アクティブ'\n",
        "\n",
        "        careful_mask = customer_stats['リスク管理度'] > 0.5\n",
        "        customer_stats.loc[careful_mask, '投資家タイプ'] = '慎重'\n",
        "\n",
        "        digital_mask = customer_stats['デジタル利用率'] > 0.7\n",
        "        customer_stats.loc[digital_mask, '投資家タイプ'] = 'デジタル'\n",
        "\n",
        "        df = df.merge(customer_stats, left_on='顧客ID', right_index=True, how='left')\n",
        "\n",
        "        numeric_cols = [col for col in customer_stats.columns if col != '投資家タイプ']\n",
        "        for col in numeric_cols:\n",
        "            df[col] = df[col].fillna(0)\n",
        "        df['投資家タイプ'] = df['投資家タイプ'].fillna('その他')\n",
        "\n",
        "        return df\n",
        "\n",
        "    except Exception as e:\n",
        "        print(f\"取引特徴量エラー: {e}\")\n",
        "        return add_dummy_features(df)"
      ],
      "metadata": {
        "id": "1JyaHnU28D3n"
      },
      "execution_count": 21,
      "outputs": []
    },
    {
      "cell_type": "code",
      "source": [
        "def add_real_product_features(df):\n",
        "    \"\"\"実際の商品データから特徴量作成\"\"\"\n",
        "    try:\n",
        "        trading_with_product = trading_df.merge(\n",
        "            product_df[['商品名', '商品カテゴリ', 'リスクカテゴリ', '通貨', '勧誘留意商品']],\n",
        "            on='商品名', how='left'\n",
        "        )\n",
        "\n",
        "        customer_products = trading_with_product.groupby('顧客ID').agg({\n",
        "            '商品カテゴリ': lambda x: x.mode().iloc[0] if len(x.mode()) > 0 else 'その他',\n",
        "            'リスクカテゴリ': lambda x: x.mode().iloc[0] if len(x.mode()) > 0 else 'Medium',\n",
        "            '通貨': lambda x: (x == 'JPY').mean(),\n",
        "            '勧誘留意商品': 'mean'\n",
        "        })\n",
        "\n",
        "        customer_products.columns = ['主要商品カテゴリ', '主要リスクカテゴリ', '円建て比率', '留意商品比率']\n",
        "\n",
        "        risk_mapping = {'Low': 1, 'Medium': 2, 'High': 3}\n",
        "        customer_products['リスク指向度'] = customer_products['主要リスクカテゴリ'].map(risk_mapping).fillna(2)\n",
        "\n",
        "        df = df.merge(customer_products, left_on='顧客ID', right_index=True, how='left')\n",
        "\n",
        "        df['主要商品カテゴリ'] = df['主要商品カテゴリ'].fillna('その他')\n",
        "        df['主要リスクカテゴリ'] = df['主要リスクカテゴリ'].fillna('Medium')\n",
        "        df['円建て比率'] = df['円建て比率'].fillna(1.0)\n",
        "        df['留意商品比率'] = df['留意商品比率'].fillna(0.0)\n",
        "        df['リスク指向度'] = df['リスク指向度'].fillna(2)\n",
        "\n",
        "        return df\n",
        "\n",
        "    except Exception as e:\n",
        "        print(f\"商品特徴量エラー: {e}\")\n",
        "        return df"
      ],
      "metadata": {
        "id": "yBGxyllF8HOe"
      },
      "execution_count": 22,
      "outputs": []
    },
    {
      "cell_type": "code",
      "source": [
        "def add_dummy_features(df):\n",
        "    \"\"\"ダミー特徴量追加\"\"\"\n",
        "    dummy_features = [\n",
        "        '過去取引回数', '過去累積損益', '投資成功体験', 'デジタル利用率',\n",
        "        '商品多様性', '主要リスクカテゴリ', '投資家タイプ', 'リスク管理度', 'リスク指向度'\n",
        "    ]\n",
        "    for feature in dummy_features:\n",
        "        if feature not in ['主要リスクカテゴリ', '投資家タイプ']:\n",
        "            df[feature] = 0\n",
        "        else:\n",
        "            df[feature] = 'その他' if feature == '投資家タイプ' else 'Medium'\n",
        "    df['円建て比率'] = 1.0\n",
        "    df['留意商品比率'] = 0.0\n",
        "    return df"
      ],
      "metadata": {
        "id": "bMAYKGeE8NpP"
      },
      "execution_count": 23,
      "outputs": []
    },
    {
      "cell_type": "code",
      "source": [
        "def create_complete_features(df):\n",
        "    \"\"\"完全版特徴量作成\"\"\"\n",
        "    df = df.copy()\n",
        "\n",
        "    # 基本特徴量\n",
        "    df['資産規模'] = df['取得価額'] + df['時価価額']\n",
        "    df['投資効率'] = df['時価価額'] / (df['取得価額'] + 1)\n",
        "    df['年齢調整資産'] = df['時価価額'] / (df['顧客年齢'] + 1)\n",
        "    df['顧客ランク'] = df['時価価額'].rank(pct=True)\n",
        "    df['年齢×資産規模'] = df['顧客年齢'] * df['資産規模']\n",
        "    df['含み損益率'] = np.where(df['取得価額'] != 0,\n",
        "                                (df['時価価額'] - df['取得価額']) / df['取得価額'], 0)\n",
        "\n",
        "    if HAS_ALL_DATA:\n",
        "        df = add_real_trading_features(df)\n",
        "        df = add_real_product_features(df)\n",
        "    else:\n",
        "        df = add_dummy_features(df)\n",
        "\n",
        "    # フラグ特徴量\n",
        "    df['高資産フラグ'] = (df['資産規模'] > df['資産規模'].quantile(0.8)).astype(int)\n",
        "    df['含み損フラグ'] = (df['評価損益'] < 0).astype(int)\n",
        "    df['シニアフラグ'] = (df['顧客年齢'] >= 65).astype(int)\n",
        "    df['株式経験あり'] = (df['投資経験（株式）'] > 0).astype(int)\n",
        "\n",
        "    return df"
      ],
      "metadata": {
        "id": "aOsk1DKj8TBZ"
      },
      "execution_count": 24,
      "outputs": []
    },
    {
      "cell_type": "code",
      "source": [
        "# 🚀 最終調整：新規特徴量追加\n",
        "def create_final_features(df):\n",
        "    \"\"\"最後の+0.01を狙う特徴量\"\"\"\n",
        "    df = df.copy()\n",
        "\n",
        "    # 既存特徴量作成\n",
        "    df = create_complete_features(df)\n",
        "\n",
        "    # 【新規】高度な相互作用特徴量\n",
        "    df['投資効率×年齢'] = df['投資効率'] * df['顧客年齢']\n",
        "    df['リスク×経験'] = df['リスク指向度'] * df['投資経験（株式）']\n",
        "    df['資産×取引頻度'] = df['資産規模'] * df['過去取引回数']\n",
        "\n",
        "    # 【新規】比率特徴量\n",
        "    df['成功率'] = df['投資成功体験'] / (df['過去取引回数'] + 1)\n",
        "    df['効率ランク'] = df['投資効率'].rank(pct=True)\n",
        "    df['年齢内資産順位'] = df.groupby('顧客年齢')['時価価額'].rank(pct=True)\n",
        "\n",
        "    # 【新規】複合スコア\n",
        "    df['総合投資力'] = (\n",
        "        df['顧客ランク'] * 0.3 +\n",
        "        df['効率ランク'] * 0.3 +\n",
        "        df['投資成功体験'] * 0.2 +\n",
        "        (df['過去取引回数'] / 50).clip(0, 1) * 0.2\n",
        "    )\n",
        "\n",
        "    # 【新規】異常値フラグ\n",
        "    df['異常高資産'] = (df['時価価額'] > df['時価価額'].quantile(0.99)).astype(int)\n",
        "    df['超アクティブ'] = (df['過去取引回数'] > df['過去取引回数'].quantile(0.95)).astype(int)\n",
        "\n",
        "    return df"
      ],
      "metadata": {
        "id": "ME9SbWxt8Uhp"
      },
      "execution_count": 25,
      "outputs": []
    },
    {
      "cell_type": "markdown",
      "source": [
        "## 複数モデルのアンサンブル"
      ],
      "metadata": {
        "id": "vezajMZ8KutT"
      }
    },
    {
      "cell_type": "code",
      "source": [
        "# 🎯 最終モデル\n",
        "class FinalEnsemble:\n",
        "    def __init__(self):\n",
        "        self.models = {\n",
        "            'rf1': RandomForestClassifier(\n",
        "                n_estimators=200, max_depth=12, min_samples_leaf=6,\n",
        "                max_features=0.8, random_state=42, n_jobs=-1, class_weight='balanced'\n",
        "            ),\n",
        "            'et1': ExtraTreesClassifier(\n",
        "                n_estimators=200, max_depth=14, min_samples_leaf=4,\n",
        "                max_features=0.9, random_state=42, n_jobs=-1, class_weight='balanced'\n",
        "            ),\n",
        "            'rf2': RandomForestClassifier(\n",
        "                n_estimators=150, max_depth=8, min_samples_leaf=12,\n",
        "                max_features=0.6, random_state=123, n_jobs=-1, class_weight='balanced'\n",
        "            )\n",
        "        }\n",
        "\n",
        "    def fit(self, X, y, term_id):\n",
        "        print(f\"\\n🎯 Term {term_id} - 最終調整学習\")\n",
        "        print(f\"データ: {X.shape}, 陽性率: {y.mean():.4f}\")\n",
        "\n",
        "        cv_scores = {}\n",
        "        for name, model in self.models.items():\n",
        "            model.fit(X, y)\n",
        "            cv_score = cross_val_score(model, X, y, cv=5, scoring='roc_auc')\n",
        "            cv_scores[name] = cv_score.mean()\n",
        "            print(f\"  {name}: {cv_score.mean():.4f} (±{cv_score.std():.3f})\")\n",
        "\n",
        "        scores = np.array(list(cv_scores.values()))\n",
        "        exp_scores = np.exp(scores * 3)\n",
        "        self.weights = dict(zip(cv_scores.keys(), exp_scores / exp_scores.sum()))\n",
        "        print(f\"  最終重み: {self.weights}\")\n",
        "\n",
        "        return cv_scores\n",
        "\n",
        "    def predict_proba(self, X):\n",
        "        predictions = {}\n",
        "        for name, model in self.models.items():\n",
        "            predictions[name] = model.predict_proba(X)[:, 1]\n",
        "\n",
        "        ensemble_pred = sum(\n",
        "            self.weights[name] * predictions[name]\n",
        "            for name in self.models.keys()\n",
        "        )\n",
        "        return ensemble_pred\n",
        "\n",
        "# 🚀 最終パイプライン\n",
        "def final_pipeline(train_df, test_df):\n",
        "    \"\"\"最終調整パイプライン\"\"\"\n",
        "    print(\"🚀 最終調整パイプライン（0.65達成狙い）\")\n",
        "    print(\"=\"*60)\n",
        "\n",
        "    # 最終特徴量作成\n",
        "    train_final = create_final_features(train_df.copy())\n",
        "    test_final = create_final_features(test_df.copy())\n",
        "\n",
        "    # 最強特徴量セット\n",
        "    final_features = [\n",
        "        # 基本重要特徴量\n",
        "        '時価価額', '顧客ランク', '年齢×資産規模', '過去取引回数',\n",
        "        '資産規模', '投資効率', '年齢調整資産', '含み損益率',\n",
        "\n",
        "        # 実データ特徴量\n",
        "        '商品多様性', 'デジタル利用率', '投資成功体験', '過去累積損益',\n",
        "        'リスク管理度', 'リスク指向度', '円建て比率',\n",
        "\n",
        "        # 【新規】最終調整特徴量\n",
        "        '投資効率×年齢', 'リスク×経験', '資産×取引頻度',\n",
        "        '成功率', '効率ランク', '年齢内資産順位', '総合投資力',\n",
        "        '異常高資産', '超アクティブ',\n",
        "\n",
        "        # 基本情報\n",
        "        '顧客年齢', '投資経験（株式）', 'year', '投資方針',\n",
        "\n",
        "        # フラグ\n",
        "        '高資産フラグ', '含み損フラグ', 'シニアフラグ', '株式経験あり'\n",
        "    ]\n",
        "\n",
        "    print(f\"📊 最終特徴量: {len(final_features)}個\")\n",
        "\n",
        "    # Term別予測\n",
        "    all_predictions = pd.DataFrame()\n",
        "    term_aucs = []\n",
        "\n",
        "    for term_id in range(1, 7):\n",
        "        print(f\"\\n{'='*40}\")\n",
        "        print(f\"Term {term_id} 最終調整\")\n",
        "        print(f\"{'='*40}\")\n",
        "\n",
        "        # データ準備\n",
        "        train_term = train_final[train_final[f'train_term_{term_id}'] == 1]\n",
        "        test_term = test_final[test_final[f'test_term_{term_id}'] == 1]\n",
        "\n",
        "        available_features = [f for f in final_features if f in train_term.columns]\n",
        "        print(f\"利用可能特徴量: {len(available_features)}個\")\n",
        "\n",
        "        X_train = train_term[available_features].fillna(0)\n",
        "        y_train = train_term['y']\n",
        "        X_test = test_term[available_features].fillna(0)\n",
        "\n",
        "        # カテゴリ変数エンコーディング\n",
        "        categorical_cols = ['投資方針', '投資家タイプ', '主要リスクカテゴリ']\n",
        "        categorical_to_encode = [col for col in categorical_cols if col in X_train.columns]\n",
        "\n",
        "        if categorical_to_encode:\n",
        "            X_train = pd.get_dummies(X_train, columns=categorical_to_encode, drop_first=True, dtype=int)\n",
        "            X_test = pd.get_dummies(X_test, columns=categorical_to_encode, drop_first=True, dtype=int)\n",
        "\n",
        "            missing_cols = set(X_train.columns) - set(X_test.columns)\n",
        "            for col in missing_cols:\n",
        "                X_test[col] = 0\n",
        "            X_test = X_test[X_train.columns]\n",
        "\n",
        "        print(f\"最終特徴量数: {X_train.shape[1]}個\")\n",
        "\n",
        "        # 最終モデル学習\n",
        "        ensemble = FinalEnsemble()\n",
        "        cv_scores = ensemble.fit(X_train, y_train, term_id)\n",
        "        term_aucs.append(np.mean(list(cv_scores.values())))\n",
        "\n",
        "        # 予測\n",
        "        test_pred = ensemble.predict_proba(X_test)\n",
        "\n",
        "        # 結果保存\n",
        "        pred_df = pd.DataFrame({'ID': test_term['ID'], 'predict': test_pred})\n",
        "        all_predictions = pd.concat([all_predictions, pred_df]) if not all_predictions.empty else pred_df\n",
        "\n",
        "    # 最終結果\n",
        "    avg_auc = np.mean(term_aucs)\n",
        "    print(f\"\\n{'='*60}\")\n",
        "    print(\"🎯 最終調整結果\")\n",
        "    print(f\"{'='*60}\")\n",
        "\n",
        "    for i, auc in enumerate(term_aucs, 1):\n",
        "        print(f\"Term {i}: {auc:.4f}\")\n",
        "\n",
        "    print(f\"\\n📈 最終CV-AUC: {avg_auc:.4f}\")\n",
        "    print(f\"📊 予想パブリック: {avg_auc - 0.027:.4f}\")\n",
        "\n",
        "    if avg_auc >= 0.677:\n",
        "        print(\"🎉 0.65達成可能性大！\")\n",
        "    elif avg_auc >= 0.67:\n",
        "        print(\"✅ 0.64後半達成！\")\n",
        "\n",
        "    return all_predictions, avg_auc"
      ],
      "metadata": {
        "id": "NcCukdSs8e22"
      },
      "execution_count": 26,
      "outputs": []
    },
    {
      "cell_type": "markdown",
      "source": [
        "## モデル評価の強化"
      ],
      "metadata": {
        "id": "iRopblc5K2pO"
      }
    },
    {
      "cell_type": "code",
      "source": [
        "## モデル評価関数\n",
        "def evaluate_model_performance(y_true, y_pred_proba, threshold=0.23):\n",
        "    \"\"\"PoCで設定した指標で評価\"\"\"\n",
        "    y_pred = (y_pred_proba >= threshold).astype(int)\n",
        "\n",
        "    metrics = {\n",
        "        'AUC': roc_auc_score(y_true, y_pred_proba),\n",
        "        'Precision': precision_score(y_true, y_pred, zero_division=0),\n",
        "        'Recall': recall_score(y_true, y_pred, zero_division=0),\n",
        "        'F1': f1_score(y_true, y_pred, zero_division=0)\n",
        "    }\n",
        "\n",
        "    print(f\"AUC: {metrics['AUC']:.4f} (目標: 0.7以上)\")\n",
        "    print(f\"Precision: {metrics['Precision']:.4f} (目標: 0.4以上)\")\n",
        "    print(f\"Recall: {metrics['Recall']:.4f} (目標: 0.6以上)\")\n",
        "    print(f\"F1 Score: {metrics['F1']:.4f} (目標: 0.5以上)\")\n",
        "\n",
        "    return metrics"
      ],
      "metadata": {
        "id": "sgDwaXdXK1pl"
      },
      "execution_count": 18,
      "outputs": []
    },
    {
      "cell_type": "markdown",
      "source": [
        "## メイン処理（改善版）"
      ],
      "metadata": {
        "id": "-UEuTjAjK-o-"
      }
    },
    {
      "cell_type": "code",
      "source": [
        "print(\"🚀 最終調整実行（0.65達成狙い）\")\n",
        "final_predictions, final_auc = final_pipeline(train_df, test_df)"
      ],
      "metadata": {
        "colab": {
          "base_uri": "https://localhost:8080/"
        },
        "id": "Vfl0gesBLDg_",
        "outputId": "6cff5a87-85d2-40c5-862d-d65b66e2f05c"
      },
      "execution_count": 27,
      "outputs": [
        {
          "output_type": "stream",
          "name": "stdout",
          "text": [
            "🚀 最終調整実行（0.65達成狙い）\n",
            "🚀 最終調整パイプライン（0.65達成狙い）\n",
            "============================================================\n",
            "📊 最終特徴量: 32個\n",
            "\n",
            "========================================\n",
            "Term 1 最終調整\n",
            "========================================\n",
            "利用可能特徴量: 32個\n",
            "最終特徴量数: 33個\n",
            "\n",
            "🎯 Term 1 - 最終調整学習\n",
            "データ: (80000, 33), 陽性率: 0.1972\n",
            "  rf1: 0.6689 (±0.019)\n",
            "  et1: 0.6676 (±0.016)\n",
            "  rf2: 0.6849 (±0.014)\n",
            "  最終重み: {'rf1': np.float64(0.3283445751389319), 'et1': np.float64(0.3271140039404394), 'rf2': np.float64(0.3445414209206287)}\n",
            "\n",
            "========================================\n",
            "Term 2 最終調整\n",
            "========================================\n",
            "利用可能特徴量: 32個\n",
            "最終特徴量数: 33個\n",
            "\n",
            "🎯 Term 2 - 最終調整学習\n",
            "データ: (82000, 33), 陽性率: 0.1976\n",
            "  rf1: 0.6680 (±0.019)\n",
            "  et1: 0.6667 (±0.015)\n",
            "  rf2: 0.6831 (±0.016)\n",
            "  最終重み: {'rf1': np.float64(0.3286809601766906), 'et1': np.float64(0.32739025581951753), 'rf2': np.float64(0.34392878400379195)}\n",
            "\n",
            "========================================\n",
            "Term 3 最終調整\n",
            "========================================\n",
            "利用可能特徴量: 32個\n",
            "最終特徴量数: 33個\n",
            "\n",
            "🎯 Term 3 - 最終調整学習\n",
            "データ: (84000, 33), 陽性率: 0.1980\n",
            "  rf1: 0.6613 (±0.019)\n",
            "  et1: 0.6668 (±0.016)\n",
            "  rf2: 0.6761 (±0.018)\n",
            "  最終重み: {'rf1': np.float64(0.32655385997904557), 'et1': np.float64(0.3320207911316294), 'rf2': np.float64(0.34142534888932496)}\n",
            "\n",
            "========================================\n",
            "Term 4 最終調整\n",
            "========================================\n",
            "利用可能特徴量: 32個\n",
            "最終特徴量数: 33個\n",
            "\n",
            "🎯 Term 4 - 最終調整学習\n",
            "データ: (86000, 33), 陽性率: 0.1985\n",
            "  rf1: 0.6670 (±0.016)\n",
            "  et1: 0.6652 (±0.012)\n",
            "  rf2: 0.6769 (±0.018)\n",
            "  最終重み: {'rf1': np.float64(0.3306157065780237), 'et1': np.float64(0.3288115264962616), 'rf2': np.float64(0.3405727669257148)}\n",
            "\n",
            "========================================\n",
            "Term 5 最終調整\n",
            "========================================\n",
            "利用可能特徴量: 32個\n",
            "最終特徴量数: 33個\n",
            "\n",
            "🎯 Term 5 - 最終調整学習\n",
            "データ: (88000, 33), 陽性率: 0.1989\n",
            "  rf1: 0.6635 (±0.016)\n",
            "  et1: 0.6612 (±0.013)\n",
            "  rf2: 0.6733 (±0.018)\n",
            "  最終重み: {'rf1': np.float64(0.3307511573072268), 'et1': np.float64(0.3285546370787071), 'rf2': np.float64(0.34069420561406594)}\n",
            "\n",
            "========================================\n",
            "Term 6 最終調整\n",
            "========================================\n",
            "利用可能特徴量: 32個\n",
            "最終特徴量数: 33個\n",
            "\n",
            "🎯 Term 6 - 最終調整学習\n",
            "データ: (90000, 33), 陽性率: 0.1989\n",
            "  rf1: 0.6625 (±0.016)\n",
            "  et1: 0.6639 (±0.016)\n",
            "  rf2: 0.6725 (±0.017)\n",
            "  最終重み: {'rf1': np.float64(0.3294972311874377), 'et1': np.float64(0.3309116008039361), 'rf2': np.float64(0.3395911680086262)}\n",
            "\n",
            "============================================================\n",
            "🎯 最終調整結果\n",
            "============================================================\n",
            "Term 1: 0.6738\n",
            "Term 2: 0.6726\n",
            "Term 3: 0.6681\n",
            "Term 4: 0.6697\n",
            "Term 5: 0.6660\n",
            "Term 6: 0.6663\n",
            "\n",
            "📈 最終CV-AUC: 0.6694\n",
            "📊 予想パブリック: 0.6424\n"
          ]
        }
      ]
    },
    {
      "cell_type": "code",
      "source": [
        "# 提出ファイル作成\n",
        "submission_df[1] = final_predictions['predict']\n",
        "submission_df.to_csv(base_dir + '/final_submission.csv', index=False, header=False)\n",
        "\n",
        "print(f\"\\n🎯 最終調整完了！\")\n",
        "print(f\"CV-AUC: {final_auc:.4f}\")\n",
        "print(f\"予想改善: 0.6381 → {final_auc - 0.027:.4f}\")\n",
        "print(\"提出ファイル: final_submission.csv\")"
      ],
      "metadata": {
        "id": "GMqCAoZVPyUG",
        "colab": {
          "base_uri": "https://localhost:8080/"
        },
        "outputId": "468a6d5e-6b25-4843-b8cb-9a7eb1df831a"
      },
      "execution_count": 29,
      "outputs": [
        {
          "output_type": "stream",
          "name": "stdout",
          "text": [
            "\n",
            "🎯 最終調整完了！\n",
            "CV-AUC: 0.6694\n",
            "予想改善: 0.6381 → 0.6424\n",
            "提出ファイル: final_submission.csv\n"
          ]
        }
      ]
    }
  ]
}